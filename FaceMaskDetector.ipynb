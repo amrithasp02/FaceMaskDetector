{
  "nbformat": 4,
  "nbformat_minor": 0,
  "metadata": {
    "colab": {
      "name": "Copy of FaceMask-Trial2.ipynb",
      "provenance": [],
      "collapsed_sections": []
    },
    "kernelspec": {
      "name": "python3",
      "display_name": "Python 3"
    },
    "accelerator": "GPU"
  },
  "cells": [
    {
      "cell_type": "code",
      "metadata": {
        "colab": {
          "base_uri": "https://localhost:8080/"
        },
        "id": "UPV548OPltiN",
        "outputId": "9961631e-63ca-416a-c3f7-af194b4644cc"
      },
      "source": [
        "from google.colab import drive\r\n",
        "drive.mount('/content/drive')"
      ],
      "execution_count": null,
      "outputs": [
        {
          "output_type": "stream",
          "text": [
            "Drive already mounted at /content/drive; to attempt to forcibly remount, call drive.mount(\"/content/drive\", force_remount=True).\n"
          ],
          "name": "stdout"
        }
      ]
    },
    {
      "cell_type": "code",
      "metadata": {
        "id": "T4GPvABmmH86"
      },
      "source": [
        "import pandas as pd\r\n",
        "import numpy as np\r\n",
        "import matplotlib.pyplot as plt\r\n",
        "import seaborn as sns\r\n",
        "import os\r\n",
        "import keras\r\n",
        "from keras.preprocessing.image import *\r\n",
        "from keras.layers import *\r\n",
        "from keras.models import Sequential\r\n",
        "from keras.callbacks import *"
      ],
      "execution_count": null,
      "outputs": []
    },
    {
      "cell_type": "code",
      "metadata": {
        "id": "otu0hOC9xm-d"
      },
      "source": [
        "import tensorflow as tf\r\n",
        "import matplotlib.pyplot as plt\r\n",
        "import numpy as np"
      ],
      "execution_count": null,
      "outputs": []
    },
    {
      "cell_type": "code",
      "metadata": {
        "id": "Y7OFAYM2wpNs"
      },
      "source": [
        "training_path = \"/content/drive/MyDrive/maskdata/train\"\r\n",
        "test_path = \"/content/drive/MyDrive/maskdata/test\""
      ],
      "execution_count": null,
      "outputs": []
    },
    {
      "cell_type": "code",
      "metadata": {
        "colab": {
          "base_uri": "https://localhost:8080/"
        },
        "id": "tujBqP3swpYg",
        "outputId": "fe738841-4686-44f0-d0a6-60da5e4c41bc"
      },
      "source": [
        "train_dataset = tf.keras.preprocessing.image_dataset_from_directory(\r\n",
        "    training_path,\r\n",
        "    image_size = (256,256),\r\n",
        "    batch_size = 32\r\n",
        ")\r\n"
      ],
      "execution_count": null,
      "outputs": [
        {
          "output_type": "stream",
          "text": [
            "Found 616 files belonging to 2 classes.\n"
          ],
          "name": "stdout"
        }
      ]
    },
    {
      "cell_type": "code",
      "metadata": {
        "colab": {
          "base_uri": "https://localhost:8080/"
        },
        "id": "5U-5Mp-5xvgH",
        "outputId": "1a3a44ef-ece9-4ed7-b719-3e6a0eb1aec2"
      },
      "source": [
        "test_dataset = tf.keras.preprocessing.image_dataset_from_directory(\r\n",
        "    test_path,\r\n",
        "    image_size = (256,256),\r\n",
        "    batch_size = 32\r\n",
        ")"
      ],
      "execution_count": null,
      "outputs": [
        {
          "output_type": "stream",
          "text": [
            "Found 198 files belonging to 2 classes.\n"
          ],
          "name": "stdout"
        }
      ]
    },
    {
      "cell_type": "code",
      "metadata": {
        "id": "LkwcCG34x1qv"
      },
      "source": [
        ""
      ],
      "execution_count": null,
      "outputs": []
    },
    {
      "cell_type": "code",
      "metadata": {
        "colab": {
          "base_uri": "https://localhost:8080/",
          "height": 228
        },
        "id": "MQxkxK7DmXjR",
        "outputId": "c849177e-bfdf-4a58-acd1-078a94136aeb"
      },
      "source": [
        "# TRY MODIFYING THIS FOR DATA AUGUMENTATION TO PREVENT OVERFITTING\r\n",
        "\r\n",
        "train_datagen = ImageDataGenerator(\r\n",
        "    rescale = 1./255,\r\n",
        "    zoom_range = 0.2,\r\n",
        "    horizontal_flip  = True,\r\n",
        "    rotation_range = 40,\r\n",
        "    fill_mode = 'nearest'\r\n",
        ")\r\n",
        "\r\n",
        "test_datagen = ImageDataGenerator(rescale = 1./255)\r\n",
        "\r\n",
        "train_generator = train_datagen.flow_from_directory(\r\n",
        "    train_dir,\r\n",
        "    batch_size = 32,\r\n",
        "    class_mode = 'binary',\r\n",
        "    target_size = (256, 256)\r\n",
        ")\r\n",
        "\r\n",
        "test_generator = train_datagen.flow_from_directory(\r\n",
        "    test_dir,\r\n",
        "    batch_size = 32,\r\n",
        "    class_mode = 'binary',\r\n",
        "    target_size = (256, 256)\r\n",
        ")\r\n",
        "\r\n",
        "valid_generator = test_datagen.flow_from_directory(\r\n",
        "    test_dir,\r\n",
        "    batch_size = 32,\r\n",
        "    class_mode = 'binary',\r\n",
        "    target_size = (256, 256)\r\n",
        ")"
      ],
      "execution_count": null,
      "outputs": [
        {
          "output_type": "error",
          "ename": "NameError",
          "evalue": "ignored",
          "traceback": [
            "\u001b[0;31m---------------------------------------------------------------------------\u001b[0m",
            "\u001b[0;31mNameError\u001b[0m                                 Traceback (most recent call last)",
            "\u001b[0;32m<ipython-input-8-b591e8098cf2>\u001b[0m in \u001b[0;36m<module>\u001b[0;34m()\u001b[0m\n\u001b[1;32m     10\u001b[0m \u001b[0;34m\u001b[0m\u001b[0m\n\u001b[1;32m     11\u001b[0m train_generator = train_datagen.flow_from_directory(\n\u001b[0;32m---> 12\u001b[0;31m     \u001b[0mtrain_dir\u001b[0m\u001b[0;34m,\u001b[0m\u001b[0;34m\u001b[0m\u001b[0;34m\u001b[0m\u001b[0m\n\u001b[0m\u001b[1;32m     13\u001b[0m     \u001b[0mbatch_size\u001b[0m \u001b[0;34m=\u001b[0m \u001b[0;36m32\u001b[0m\u001b[0;34m,\u001b[0m\u001b[0;34m\u001b[0m\u001b[0;34m\u001b[0m\u001b[0m\n\u001b[1;32m     14\u001b[0m     \u001b[0mclass_mode\u001b[0m \u001b[0;34m=\u001b[0m \u001b[0;34m'binary'\u001b[0m\u001b[0;34m,\u001b[0m\u001b[0;34m\u001b[0m\u001b[0;34m\u001b[0m\u001b[0m\n",
            "\u001b[0;31mNameError\u001b[0m: name 'train_dir' is not defined"
          ]
        }
      ]
    },
    {
      "cell_type": "code",
      "metadata": {
        "colab": {
          "base_uri": "https://localhost:8080/",
          "height": 1000
        },
        "id": "lZyywhi_md8S",
        "outputId": "e8c32acf-2c33-4d1f-8162-b48b591bbbbd"
      },
      "source": [
        "import tensorflow as tf\r\n",
        "\r\n",
        "def scheduler(epoch, lr):\r\n",
        "    if epoch < 15:\r\n",
        "        return lr\r\n",
        "    else:\r\n",
        "        return lr * tf.math.exp(-0.1)\r\n",
        "\r\n",
        "callbacks = [\r\n",
        "#     EarlyStopping(monitor = 'val_accuracy', patience = 5),\r\n",
        "    ReduceLROnPlateau(monitor='val_loss', factor=0.2, patience=5, min_lr=0.001),\r\n",
        "    ModelCheckpoint(filepath='weights.h5', save_weights_only=True, monitor='val_accuracy',mode='max', save_best_only=True),\r\n",
        "    LearningRateScheduler(scheduler),\r\n",
        "    \r\n",
        "]\r\n",
        "\r\n",
        "\r\n",
        "from keras.applications import VGG16\r\n",
        "\r\n",
        "VGG =  VGG16(weights = 'imagenet', include_top = False, input_shape = (256, 256, 3))\r\n",
        "\r\n",
        "VGG.trainable = False\r\n",
        "\r\n",
        "model = Sequential()\r\n",
        "model.add(VGG)\r\n",
        "\r\n",
        "model.add(Flatten())\r\n",
        "\r\n",
        "model.add(Dropout(0.3))\r\n",
        "model.add(Dense(64, activation = 'relu'))\r\n",
        "model.add(Dense(1, activation = 'sigmoid'))\r\n",
        "\r\n",
        "model.compile(loss = 'binary_crossentropy', metrics = ['accuracy'])\r\n",
        "\r\n",
        "history = model.fit(\r\n",
        "    train_dataset,\r\n",
        "    batch_size = 32,\r\n",
        "    epochs = 30,\r\n",
        "    validation_data = test_dataset,\r\n",
        "    callbacks = callbacks\r\n",
        "         )\r\n",
        "\r\n",
        "plt.figure(figsize = (10, 10))\r\n",
        "plt.subplot(2,2, 1)\r\n",
        "plt.title('accuracy')\r\n",
        "sns.lineplot(data = history.history, x = range(len(history.history['val_accuracy'])), y = 'val_accuracy')\r\n",
        "sns.lineplot(data = history.history, x = range(len(history.history['val_accuracy'])), y = 'accuracy')\r\n",
        "plt.legend()\r\n",
        "\r\n",
        "plt.subplot(2,2, 2)\r\n",
        "plt.title('loss')\r\n",
        "sns.lineplot(data = history.history, x = range(len(history.history['val_accuracy'])), y = 'val_loss')\r\n",
        "sns.lineplot(data = history.history, x = range(len(history.history['val_accuracy'])), y = 'loss')\r\n",
        "plt.legend()\r\n",
        "\r\n",
        "VGG.trainable = True\r\n",
        "set_trainable = False\r\n",
        "\r\n",
        "for layer in VGG.layers:\r\n",
        "    if layer.name == 'block5_conv1':\r\n",
        "        set_trainable = True\r\n",
        "    if set_trainable:\r\n",
        "        layer.trainable = True\r\n",
        "    else:\r\n",
        "        layer.trainable = False\r\n",
        "        \r\n",
        "model.compile(loss = 'binary_crossentropy', metrics = ['accuracy'])\r\n",
        "\r\n",
        "history = model.fit(\r\n",
        "    train_dataset,\r\n",
        "    batch_size = 32,\r\n",
        "    epochs = 30,\r\n",
        "    validation_data = test_dataset,\r\n",
        "    callbacks = callbacks\r\n",
        "         )\r\n",
        "\r\n",
        "plt.subplot(2,2, 3)\r\n",
        "plt.title('accuracy')\r\n",
        "sns.lineplot(data = history.history, x = range(len(history.history['val_accuracy'])), y = 'val_accuracy')\r\n",
        "sns.lineplot(data = history.history, x = range(len(history.history['val_accuracy'])), y = 'accuracy')\r\n",
        "plt.legend()\r\n",
        "\r\n",
        "plt.subplot(2,2, 4)\r\n",
        "plt.title('loss')\r\n",
        "sns.lineplot(data = history.history, x = range(len(history.history['val_accuracy'])), y = 'val_loss')\r\n",
        "sns.lineplot(data = history.history, x = range(len(history.history['val_accuracy'])), y = 'loss')\r\n",
        "plt.legend()\r\n"
      ],
      "execution_count": null,
      "outputs": [
        {
          "output_type": "stream",
          "text": [
            "Epoch 1/30\n",
            "20/20 [==============================] - 533s 17s/step - loss: 21.9931 - accuracy: 0.8192 - val_loss: 0.4194 - val_accuracy: 0.9545\n",
            "Epoch 2/30\n",
            "20/20 [==============================] - 4s 175ms/step - loss: 0.3083 - accuracy: 0.9871 - val_loss: 1.2726 - val_accuracy: 0.9040\n",
            "Epoch 3/30\n",
            "20/20 [==============================] - 4s 175ms/step - loss: 0.0242 - accuracy: 0.9952 - val_loss: 0.0092 - val_accuracy: 0.9949\n",
            "Epoch 4/30\n",
            "20/20 [==============================] - 4s 178ms/step - loss: 7.9456e-05 - accuracy: 1.0000 - val_loss: 0.1992 - val_accuracy: 0.9798\n",
            "Epoch 5/30\n",
            "20/20 [==============================] - 4s 177ms/step - loss: 8.0061e-05 - accuracy: 1.0000 - val_loss: 0.0109 - val_accuracy: 0.9949\n",
            "Epoch 6/30\n",
            "20/20 [==============================] - 4s 179ms/step - loss: 0.0862 - accuracy: 0.9914 - val_loss: 0.0345 - val_accuracy: 0.9899\n",
            "Epoch 7/30\n",
            "20/20 [==============================] - 4s 176ms/step - loss: 0.1615 - accuracy: 0.9968 - val_loss: 0.0857 - val_accuracy: 0.9899\n",
            "Epoch 8/30\n",
            "20/20 [==============================] - 4s 176ms/step - loss: 0.0121 - accuracy: 0.9988 - val_loss: 0.2491 - val_accuracy: 0.9646\n",
            "Epoch 9/30\n",
            "20/20 [==============================] - 4s 174ms/step - loss: 6.6597e-04 - accuracy: 1.0000 - val_loss: 0.2046 - val_accuracy: 0.9697\n",
            "Epoch 10/30\n",
            "20/20 [==============================] - 4s 176ms/step - loss: 4.6638e-04 - accuracy: 0.9995 - val_loss: 0.1590 - val_accuracy: 0.9747\n",
            "Epoch 11/30\n",
            "20/20 [==============================] - 4s 176ms/step - loss: 8.6849e-04 - accuracy: 0.9997 - val_loss: 0.1570 - val_accuracy: 0.9747\n",
            "Epoch 12/30\n",
            "20/20 [==============================] - 4s 174ms/step - loss: 0.0014 - accuracy: 0.9988 - val_loss: 0.1540 - val_accuracy: 0.9798\n",
            "Epoch 13/30\n",
            "20/20 [==============================] - 4s 176ms/step - loss: 0.0011 - accuracy: 1.0000 - val_loss: 0.1425 - val_accuracy: 0.9848\n",
            "Epoch 14/30\n",
            "20/20 [==============================] - 4s 175ms/step - loss: 0.0106 - accuracy: 0.9989 - val_loss: 0.1379 - val_accuracy: 0.9798\n",
            "Epoch 15/30\n",
            "20/20 [==============================] - 4s 176ms/step - loss: 0.0056 - accuracy: 0.9980 - val_loss: 0.1270 - val_accuracy: 0.9848\n",
            "Epoch 16/30\n",
            "20/20 [==============================] - 4s 177ms/step - loss: 9.0029e-04 - accuracy: 0.9993 - val_loss: 0.1263 - val_accuracy: 0.9848\n",
            "Epoch 17/30\n",
            "20/20 [==============================] - 4s 174ms/step - loss: 0.0016 - accuracy: 0.9994 - val_loss: 0.1236 - val_accuracy: 0.9848\n",
            "Epoch 18/30\n",
            "20/20 [==============================] - 4s 174ms/step - loss: 0.0019 - accuracy: 0.9993 - val_loss: 0.1098 - val_accuracy: 0.9899\n",
            "Epoch 19/30\n",
            "20/20 [==============================] - 4s 174ms/step - loss: 0.0014 - accuracy: 0.9995 - val_loss: 0.1031 - val_accuracy: 0.9899\n",
            "Epoch 20/30\n",
            "20/20 [==============================] - 4s 174ms/step - loss: 0.0024 - accuracy: 0.9997 - val_loss: 0.1124 - val_accuracy: 0.9899\n",
            "Epoch 21/30\n",
            "20/20 [==============================] - 4s 176ms/step - loss: 0.0027 - accuracy: 0.9984 - val_loss: 0.1116 - val_accuracy: 0.9899\n",
            "Epoch 22/30\n",
            "20/20 [==============================] - 4s 174ms/step - loss: 7.6799e-04 - accuracy: 1.0000 - val_loss: 0.0962 - val_accuracy: 0.9899\n",
            "Epoch 23/30\n",
            "20/20 [==============================] - 4s 175ms/step - loss: 0.0016 - accuracy: 1.0000 - val_loss: 0.0877 - val_accuracy: 0.9899\n",
            "Epoch 24/30\n",
            "20/20 [==============================] - 4s 176ms/step - loss: 0.0014 - accuracy: 1.0000 - val_loss: 0.0846 - val_accuracy: 0.9899\n",
            "Epoch 25/30\n",
            "20/20 [==============================] - 4s 174ms/step - loss: 0.0011 - accuracy: 1.0000 - val_loss: 0.0524 - val_accuracy: 0.9899\n",
            "Epoch 26/30\n",
            "20/20 [==============================] - 4s 174ms/step - loss: 2.7666e-04 - accuracy: 1.0000 - val_loss: 0.0286 - val_accuracy: 0.9899\n",
            "Epoch 27/30\n",
            "20/20 [==============================] - 4s 175ms/step - loss: 0.0011 - accuracy: 1.0000 - val_loss: 0.0286 - val_accuracy: 0.9899\n",
            "Epoch 28/30\n",
            "20/20 [==============================] - 4s 174ms/step - loss: 1.5964e-04 - accuracy: 1.0000 - val_loss: 0.0440 - val_accuracy: 0.9899\n",
            "Epoch 29/30\n",
            "20/20 [==============================] - 4s 175ms/step - loss: 0.0016 - accuracy: 1.0000 - val_loss: 0.0426 - val_accuracy: 0.9899\n",
            "Epoch 30/30\n",
            "20/20 [==============================] - 4s 177ms/step - loss: 0.0012 - accuracy: 1.0000 - val_loss: 0.0418 - val_accuracy: 0.9899\n"
          ],
          "name": "stdout"
        },
        {
          "output_type": "stream",
          "text": [
            "No handles with labels found to put in legend.\n",
            "No handles with labels found to put in legend.\n"
          ],
          "name": "stderr"
        },
        {
          "output_type": "stream",
          "text": [
            "Epoch 1/30\n",
            "20/20 [==============================] - 5s 195ms/step - loss: 5.5845e-04 - accuracy: 1.0000 - val_loss: 0.0419 - val_accuracy: 0.9899\n",
            "Epoch 2/30\n",
            "20/20 [==============================] - 4s 185ms/step - loss: 0.0011 - accuracy: 1.0000 - val_loss: 0.0132 - val_accuracy: 0.9949\n",
            "Epoch 3/30\n",
            "20/20 [==============================] - 4s 184ms/step - loss: 274.8803 - accuracy: 0.9314 - val_loss: 36.3669 - val_accuracy: 0.3333\n",
            "Epoch 4/30\n",
            "20/20 [==============================] - 4s 185ms/step - loss: 7.4464 - accuracy: 0.5510 - val_loss: 0.6973 - val_accuracy: 0.3333\n",
            "Epoch 5/30\n",
            "20/20 [==============================] - 4s 186ms/step - loss: 1.0273 - accuracy: 0.5370 - val_loss: 0.6297 - val_accuracy: 0.3333\n",
            "Epoch 6/30\n",
            "20/20 [==============================] - 4s 184ms/step - loss: 3.8097 - accuracy: 0.6054 - val_loss: 0.4232 - val_accuracy: 0.7273\n",
            "Epoch 7/30\n",
            "20/20 [==============================] - 4s 187ms/step - loss: 1.3060 - accuracy: 0.8921 - val_loss: 0.1926 - val_accuracy: 0.9545\n",
            "Epoch 8/30\n",
            "20/20 [==============================] - 4s 185ms/step - loss: 1.2587 - accuracy: 0.8814 - val_loss: 0.4262 - val_accuracy: 0.4949\n",
            "Epoch 9/30\n",
            "20/20 [==============================] - 4s 184ms/step - loss: 0.0998 - accuracy: 0.9508 - val_loss: 0.0779 - val_accuracy: 0.9949\n",
            "Epoch 10/30\n",
            "20/20 [==============================] - 4s 184ms/step - loss: 0.0011 - accuracy: 0.9995 - val_loss: 0.1389 - val_accuracy: 0.9899\n",
            "Epoch 11/30\n",
            "20/20 [==============================] - 4s 184ms/step - loss: 6.9244 - accuracy: 0.9449 - val_loss: 4.3364e-12 - val_accuracy: 1.0000\n",
            "Epoch 12/30\n",
            "20/20 [==============================] - 4s 186ms/step - loss: 0.0476 - accuracy: 0.9968 - val_loss: 8.1729e-10 - val_accuracy: 1.0000\n",
            "Epoch 13/30\n",
            "20/20 [==============================] - 4s 184ms/step - loss: 1.1543e-06 - accuracy: 1.0000 - val_loss: 1.6430e-22 - val_accuracy: 1.0000\n",
            "Epoch 14/30\n",
            "20/20 [==============================] - 4s 185ms/step - loss: 9.0987e-20 - accuracy: 1.0000 - val_loss: 1.6430e-22 - val_accuracy: 1.0000\n",
            "Epoch 15/30\n",
            "20/20 [==============================] - 4s 184ms/step - loss: 2.9900e-23 - accuracy: 1.0000 - val_loss: 1.6430e-22 - val_accuracy: 1.0000\n",
            "Epoch 16/30\n",
            "20/20 [==============================] - 4s 183ms/step - loss: 7.8066e-23 - accuracy: 1.0000 - val_loss: 1.6430e-22 - val_accuracy: 1.0000\n",
            "Epoch 17/30\n",
            "20/20 [==============================] - 4s 186ms/step - loss: 8.6751e-24 - accuracy: 1.0000 - val_loss: 1.6430e-22 - val_accuracy: 1.0000\n",
            "Epoch 18/30\n",
            "20/20 [==============================] - 4s 184ms/step - loss: 1.9940e-21 - accuracy: 1.0000 - val_loss: 1.6430e-22 - val_accuracy: 1.0000\n",
            "Epoch 19/30\n",
            "20/20 [==============================] - 4s 187ms/step - loss: 5.5675e-26 - accuracy: 1.0000 - val_loss: 1.6430e-22 - val_accuracy: 1.0000\n",
            "Epoch 20/30\n",
            "20/20 [==============================] - 4s 184ms/step - loss: 2.3844e-20 - accuracy: 1.0000 - val_loss: 1.6430e-22 - val_accuracy: 1.0000\n",
            "Epoch 21/30\n",
            "20/20 [==============================] - 4s 185ms/step - loss: 6.8154e-22 - accuracy: 1.0000 - val_loss: 1.6430e-22 - val_accuracy: 1.0000\n",
            "Epoch 22/30\n",
            "20/20 [==============================] - 4s 185ms/step - loss: 8.5664e-23 - accuracy: 1.0000 - val_loss: 1.6430e-22 - val_accuracy: 1.0000\n",
            "Epoch 23/30\n",
            "20/20 [==============================] - 4s 186ms/step - loss: 8.1059e-25 - accuracy: 1.0000 - val_loss: 1.6430e-22 - val_accuracy: 1.0000\n",
            "Epoch 24/30\n",
            "20/20 [==============================] - 4s 184ms/step - loss: 2.1853e-24 - accuracy: 1.0000 - val_loss: 1.6430e-22 - val_accuracy: 1.0000\n",
            "Epoch 25/30\n",
            "20/20 [==============================] - 4s 186ms/step - loss: 9.7621e-25 - accuracy: 1.0000 - val_loss: 1.6430e-22 - val_accuracy: 1.0000\n",
            "Epoch 26/30\n",
            "20/20 [==============================] - 4s 185ms/step - loss: 5.0714e-23 - accuracy: 1.0000 - val_loss: 1.6430e-22 - val_accuracy: 1.0000\n",
            "Epoch 27/30\n",
            "20/20 [==============================] - 4s 186ms/step - loss: 1.7500e-28 - accuracy: 1.0000 - val_loss: 1.6430e-22 - val_accuracy: 1.0000\n",
            "Epoch 28/30\n",
            "20/20 [==============================] - 4s 185ms/step - loss: 5.6628e-26 - accuracy: 1.0000 - val_loss: 1.6430e-22 - val_accuracy: 1.0000\n",
            "Epoch 29/30\n",
            "20/20 [==============================] - 4s 184ms/step - loss: 8.1495e-25 - accuracy: 1.0000 - val_loss: 1.6430e-22 - val_accuracy: 1.0000\n",
            "Epoch 30/30\n",
            "20/20 [==============================] - 4s 184ms/step - loss: 1.7162e-23 - accuracy: 1.0000 - val_loss: 1.6430e-22 - val_accuracy: 1.0000\n"
          ],
          "name": "stdout"
        },
        {
          "output_type": "stream",
          "text": [
            "No handles with labels found to put in legend.\n",
            "No handles with labels found to put in legend.\n"
          ],
          "name": "stderr"
        },
        {
          "output_type": "execute_result",
          "data": {
            "text/plain": [
              "<matplotlib.legend.Legend at 0x7fe1e4659d90>"
            ]
          },
          "metadata": {
            "tags": []
          },
          "execution_count": 15
        },
        {
          "output_type": "display_data",
          "data": {
            "image/png": "[encoded data removed]",
            "text/plain": [
              "<Figure size 720x720 with 4 Axes>"
            ]
          },
          "metadata": {
            "tags": [],
            "needs_background": "light"
          }
        }
      ]
    },
    {
      "cell_type": "code",
      "metadata": {
        "id": "HS-aNIQ8yOpt"
      },
      "source": [
        "model.save('facemask-model1.h5')"
      ],
      "execution_count": null,
      "outputs": []
    },
    {
      "cell_type": "code",
      "metadata": {
        "id": "z4X32axn2aFe"
      },
      "source": [
        ""
      ],
      "execution_count": null,
      "outputs": []
    }
  ]
}